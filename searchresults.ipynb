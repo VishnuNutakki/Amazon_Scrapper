{
 "cells": [
  {
   "cell_type": "code",
   "execution_count": 2,
   "metadata": {},
   "outputs": [
    {
     "name": "stdout",
     "output_type": "stream",
     "text": [
      "Downloading https://www.amazon.com/s?k=wireless+headphones&crid=8UZ7DX4V0X2Q&sprefix=wirel%2Caps%2C381&ref=nb_sb_ss_ts-a-p_5_5\n",
      "Saving Product: True Wireless Stereo Earbuds IPX8 Waterproof Bluetooth 5.0 Headphones 24 Hrs Total Playback with Touch Control Support Single &Twin Mode\n",
      "Saving Product: Sony WH-1000XM4 Wireless Noise Canceling Overhead Black Headphones (2020)\n",
      "Saving Product: COWIN E7 Active Noise Cancelling Headphones Bluetooth Headphones with Microphone Deep Bass Wireless Headphones Over Ear, Comfortable Protein Earpads, 30 Hours Playtime for Travel/Work, Black\n",
      "Saving Product: TOZO T10 Bluetooth 5.0 Wireless Earbuds with Wireless Charging Case IPX8 Waterproof TWS Stereo Headphones in Ear Built in Mic Headset Premium Sound with Deep Bass for Sport Black\n",
      "Saving Product: Bluetooth Earbuds Bluetooth 5.0 Sweatproof Wireless Earbuds Long Standby Earphones Noise Cancelling Bluetooth Headset Hi-Fi Stereo Wireless Headphones with Microphone for Workout/Travel (White)\n",
      "Saving Product: Beats Solo3 Wireless On-Ear Headphones - Apple W1 Headphone Chip, Class 1 Bluetooth, 40 Hours Of Listening Time - Black (Latest Model)\n",
      "Saving Product: Active Noise Cancelling Headphones VANKYO C750 Bluetooth Headphones Over Ear with Microphone Wireless Headset Hi-Fi Stereo Deep Bass with 30H Playtime, Protein Earpads for Travel Work TV PC Cellphones\n",
      "Saving Product: Bose SoundLink Around Ear Wireless Headphones II - Black\n",
      "Saving Product: Samsung Galaxy Buds Live, Wireless Earbuds w/Active Noise Cancelling, Mystic Bronze (US Version with Warranty)\n",
      "Saving Product: Apple AirPods with Wireless Charging Case\n",
      "Saving Product: Sony WH-1000XM4 Wireless Noise Canceling Overhead Black Headphones (2020)\n",
      "Saving Product: iJoy Matte Finish Premium Rechargeable Wireless Headphones Bluetooth Over Ear Headphones Foldable Headset with Mic (Stealth)\n",
      "Saving Product: Sleep Headphones Bluetooth Sports Headband-Wireless Bluetooth 5.0 Music Sleeping Eye Mask for Side Sleepers Running Yoga Insomnia Travel, Gift for Men Women\n",
      "Saving Product: Mpow H7 Bluetooth Headphones Over Ear, Comfortable Wireless Headphones, Rechargeable HiFi Stereo Headset, w/Wired Mode, CVC6.0 Microphone for Cellphone Online Class, Home Office, PC\n",
      "Saving Product: Wireless Earbuds,Bluetooth 5.0 Headphones with 24Hrs Charging Case,IPX5 Waterproof Earbuds Built-in Mic Single/Twin Mode,in-Ear Stereo Earphones,Suitable for Airpods/iPhone/Android/Samsung\n",
      "Saving Product: ENACFIRE E60 Bluetooth V5.0 Wireless Earbuds with Wireless Charging Case, 8H Continuous Playtime, IPX8 Waterproof Bluetooth Earbuds for Sports, Apt-X Deep Bass Wireless Headphones, Built-in Dual Mics\n",
      "Saving Product: Hybrid Active Noise Cancelling Headphones, VANKYO C751 Over Ear Wireless Bluetooth Headphone with CVC 8.0 Mic, Deep Bass, Hi-Fi Sound, Comfortable Protein Earpads, 30H Playtime for Travel/Work\n",
      "Saving Product: Apple AirPods Pro\n",
      "Saving Product: iJoy Matte Finish Premium Rechargeable Wireless Headphones Bluetooth Over Ear Headphones Foldable Headset with Mic (Stealth)\n",
      "Saving Product: True Wireless Stereo Earbuds IPX8 Waterproof Bluetooth 5.0 Headphones 24 Hrs Total Playback with Touch Control Support Single &Twin Mode\n",
      "Saving Product: Wireless Earbuds with Immersive Sound True 5.0 Bluetooth in-Ear Headphones with 2000mAh Charging Case Easy-Pairing Stereo Calls/Touch Control/Built-in Microphones/IPX7 Sweatproof/Deep Bass for Sports\n",
      "Saving Product: Active Noise Cancelling Headphones, iTeknic [Upgraded] Bluetooth Headphones with Microphone Deep Bass Wireless Headphones Over Ear 30 Hours Playtime for TV Travel Work Cellphone\n"
     ]
    }
   ],
   "source": [
    "from selectorlib import Extractor\n",
    "import requests \n",
    "import json \n",
    "from time import sleep\n",
    "\n",
    "\n",
    "# Create an Extractor by reading from the YAML file\n",
    "e = Extractor.from_yaml_file('search_results.yml')\n",
    "\n",
    "def scrape(url):  \n",
    "\n",
    "    headers = {\n",
    "        'dnt': '1',\n",
    "        'upgrade-insecure-requests': '1',\n",
    "        'user-agent': 'Mozilla/5.0 (Macintosh; Intel Mac OS X 10_15_4) AppleWebKit/537.36 (KHTML, like Gecko) Chrome/83.0.4103.61 Safari/537.36',\n",
    "        'accept': 'text/html,application/xhtml+xml,application/xml;q=0.9,image/webp,image/apng,*/*;q=0.8,application/signed-exchange;v=b3;q=0.9',\n",
    "        'sec-fetch-site': 'same-origin',\n",
    "        'sec-fetch-mode': 'navigate',\n",
    "        'sec-fetch-user': '?1',\n",
    "        'sec-fetch-dest': 'document',\n",
    "        'referer': 'https://www.amazon.com/',\n",
    "        'accept-language': 'en-GB,en-US;q=0.9,en;q=0.8',\n",
    "    }\n",
    "\n",
    "    # Download the page using requests\n",
    "    print(\"Downloading %s\"%url)\n",
    "    r = requests.get(url, headers=headers)\n",
    "    # Simple check to check if page was blocked (Usually 503)\n",
    "    if r.status_code > 500:\n",
    "        if \"To discuss automated access to Amazon data please contact\" in r.text:\n",
    "            print(\"Page %s was blocked by Amazon. Please try using better proxies\\n\"%url)\n",
    "        else:\n",
    "            print(\"Page %s must have been blocked by Amazon as the status code was %d\"%(url,r.status_code))\n",
    "        return None\n",
    "    # Pass the HTML of the page and create \n",
    "    return e.extract(r.text)\n",
    "\n",
    "# product_data = []\n",
    "with open(\"search_results_urls.txt\",'r') as urllist, open('search_results_output.jsonl','w') as outfile:\n",
    "    for url in urllist.read().splitlines():\n",
    "        data = scrape(url) \n",
    "        if data:\n",
    "            for product in data['products']:\n",
    "                product['search_url'] = url\n",
    "                print(\"Saving Product: %s\"%product['title'])\n",
    "                json.dump(product,outfile)\n",
    "                outfile.write(\"\\n\")\n",
    "                # sleep(5)\n",
    "    "
   ]
  },
  {
   "cell_type": "code",
   "execution_count": null,
   "metadata": {},
   "outputs": [],
   "source": []
  }
 ],
 "metadata": {
  "kernelspec": {
   "display_name": "Python 3",
   "language": "python",
   "name": "python3"
  },
  "language_info": {
   "codemirror_mode": {
    "name": "ipython",
    "version": 3
   },
   "file_extension": ".py",
   "mimetype": "text/x-python",
   "name": "python",
   "nbconvert_exporter": "python",
   "pygments_lexer": "ipython3",
   "version": "3.7.3"
  }
 },
 "nbformat": 4,
 "nbformat_minor": 2
}
